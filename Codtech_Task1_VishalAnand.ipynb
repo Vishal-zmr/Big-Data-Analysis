{
  "nbformat": 4,
  "nbformat_minor": 0,
  "metadata": {
    "colab": {
      "provenance": []
    },
    "kernelspec": {
      "name": "python3",
      "display_name": "Python 3"
    },
    "language_info": {
      "name": "python"
    }
  },
  "cells": [
    {
      "cell_type": "code",
      "execution_count": 1,
      "metadata": {
        "colab": {
          "base_uri": "https://localhost:8080/"
        },
        "id": "2x53xW3RTT0I",
        "outputId": "8199e828-ea2b-47a7-b10a-9c43f9719192"
      },
      "outputs": [
        {
          "output_type": "stream",
          "name": "stdout",
          "text": [
            "Requirement already satisfied: pyspark in /usr/local/lib/python3.11/dist-packages (3.5.1)\n",
            "Requirement already satisfied: py4j==0.10.9.7 in /usr/local/lib/python3.11/dist-packages (from pyspark) (0.10.9.7)\n"
          ]
        }
      ],
      "source": [
        "!pip install pyspark\n"
      ]
    },
    {
      "cell_type": "code",
      "source": [
        "from pyspark.sql import SparkSession\n"
      ],
      "metadata": {
        "id": "ZCci6G0pZxSj"
      },
      "execution_count": 20,
      "outputs": []
    },
    {
      "cell_type": "code",
      "source": [
        "spark = SparkSession.builder.appName(\"CodtechBigDataAnalysis\").getOrCreate()\n"
      ],
      "metadata": {
        "id": "FdsK2WvmZ2e7"
      },
      "execution_count": 21,
      "outputs": []
    },
    {
      "cell_type": "code",
      "source": [
        "data_path = \"/content/store_sales (1).csv\"  # Adjust if different path after upload\n",
        "df = spark.read.csv(data_path, header=True, inferSchema=True)\n",
        "df.show(5)\n"
      ],
      "metadata": {
        "colab": {
          "base_uri": "https://localhost:8080/"
        },
        "id": "BKQgigIPZ64S",
        "outputId": "5abbcd30-d57a-4d05-c04e-a66a562a4b23"
      },
      "execution_count": 25,
      "outputs": [
        {
          "output_type": "stream",
          "name": "stdout",
          "text": [
            "+----------+-----+------+-----+-------+\n",
            "|      date|store| sales|promo|holiday|\n",
            "+----------+-----+------+-----+-------+\n",
            "|2022-01-01|    1|184.78|    0|      0|\n",
            "|2022-01-02|    1|192.62|    0|      0|\n",
            "|2022-01-03|    1|212.68|    0|      0|\n",
            "|2022-01-04|    1|249.58|    1|      0|\n",
            "|2022-01-05|    1| 223.5|    0|      0|\n",
            "+----------+-----+------+-----+-------+\n",
            "only showing top 5 rows\n",
            "\n"
          ]
        }
      ]
    },
    {
      "cell_type": "code",
      "source": [
        "# Show schema\n",
        "df.printSchema()\n",
        "\n",
        "# Count total rows\n",
        "total_rows = df.count()\n",
        "print(\"✅ Total Rows:\", total_rows)\n"
      ],
      "metadata": {
        "colab": {
          "base_uri": "https://localhost:8080/"
        },
        "id": "9k-VIJfQaWcw",
        "outputId": "c627d55e-f2b0-4c31-d4dc-492ead30ac2a"
      },
      "execution_count": 26,
      "outputs": [
        {
          "output_type": "stream",
          "name": "stdout",
          "text": [
            "root\n",
            " |-- date: date (nullable = true)\n",
            " |-- store: integer (nullable = true)\n",
            " |-- sales: double (nullable = true)\n",
            " |-- promo: integer (nullable = true)\n",
            " |-- holiday: integer (nullable = true)\n",
            "\n",
            "✅ Total Rows: 7300\n"
          ]
        }
      ]
    },
    {
      "cell_type": "code",
      "source": [
        "# Describe numerical columns\n",
        "df.describe().show()\n",
        "\n",
        "# Group by store and calculate total sales per store\n",
        "df.groupBy(\"store\").sum(\"sales\").show()\n",
        "\n",
        "# Calculate average sales when promo is active vs not active\n",
        "df.groupBy(\"promo\").avg(\"sales\").show()\n",
        "\n",
        "# Calculate total sales on holiday vs non-holiday\n",
        "df.groupBy(\"holiday\").sum(\"sales\").show()\n"
      ],
      "metadata": {
        "colab": {
          "base_uri": "https://localhost:8080/"
        },
        "id": "9LQDwwTvacEb",
        "outputId": "43b1dd0f-f0b4-4351-a8c2-54dd3e43284e"
      },
      "execution_count": 27,
      "outputs": [
        {
          "output_type": "stream",
          "name": "stdout",
          "text": [
            "+-------+------------------+-----------------+-------------------+-------------------+\n",
            "|summary|             store|            sales|              promo|            holiday|\n",
            "+-------+------------------+-----------------+-------------------+-------------------+\n",
            "|  count|              7300|             7300|               7300|               7300|\n",
            "|   mean|               5.5|228.4345712328766| 0.2021917808219178|0.10410958904109589|\n",
            "| stddev|2.8724780750809566|26.62563608103706|0.40166200332361596|0.30542357649795304|\n",
            "|    min|                 1|           160.71|                  0|                  0|\n",
            "|    max|                10|           340.73|                  1|                  1|\n",
            "+-------+------------------+-----------------+-------------------+-------------------+\n",
            "\n",
            "+-----+------------------+\n",
            "|store|        sum(sales)|\n",
            "+-----+------------------+\n",
            "|    1|169912.35999999993|\n",
            "|    6|172590.87999999992|\n",
            "|    3|159553.74999999997|\n",
            "|    5|         161479.82|\n",
            "|    9|178600.68999999983|\n",
            "|    4| 173784.7299999999|\n",
            "|    8|163896.67999999988|\n",
            "|    7|         169942.26|\n",
            "|   10| 158517.8500000001|\n",
            "|    2|159293.34999999986|\n",
            "+-----+------------------+\n",
            "\n",
            "+-----+------------------+\n",
            "|promo|        avg(sales)|\n",
            "+-----+------------------+\n",
            "|    1| 251.9732181571812|\n",
            "|    0|222.46907623626336|\n",
            "+-----+------------------+\n",
            "\n",
            "+-------+------------------+\n",
            "|holiday|        sum(sales)|\n",
            "+-------+------------------+\n",
            "|      1|200274.07000000027|\n",
            "|      0|1467298.3000000003|\n",
            "+-------+------------------+\n",
            "\n"
          ]
        }
      ]
    },
    {
      "cell_type": "code",
      "source": [
        "spark.stop()\n"
      ],
      "metadata": {
        "id": "B8d2_M7Gafj7"
      },
      "execution_count": 28,
      "outputs": []
    },
    {
      "cell_type": "markdown",
      "source": [
        "### 🔶 INSIGHTS\n",
        "\n",
        "✅ Total records analysed: [insert total rows output]\n",
        "➔ Indicates data coverage for this sales analysis task.\n",
        "\n",
        "✅ Total sales per store:\n",
        "➔ Helps identify top-performing stores for prioritising inventory and marketing spend.\n",
        "\n",
        "✅ Average sales: Promo vs Non-Promo days:\n",
        "➔ Reveals promotion effectiveness. Higher average sales during promo indicates successful promotional campaigns.\n",
        "\n",
        "✅ Total sales on holidays vs non-holidays:\n",
        "➔ Shows consumer buying behaviour on holidays. If sales increase on holidays, strategic holiday discounts can be planned.\n",
        "\n",
        "✅ Overall Interpretation:\n",
        "➔ The dataset demonstrates how PySpark efficiently processes thousands of records, enabling data-driven decisions at scale in retail business analysis.\n",
        "\n",
        "\n"
      ],
      "metadata": {
        "id": "BPjIECUIalOs"
      }
    },
    {
      "cell_type": "code",
      "source": [],
      "metadata": {
        "id": "UJxd2gT8bDWb"
      },
      "execution_count": null,
      "outputs": []
    }
  ]
}